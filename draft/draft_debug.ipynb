{
 "cells": [
  {
   "cell_type": "code",
   "execution_count": 1,
   "metadata": {},
   "outputs": [],
   "source": [
    "import pandas as pd\n",
    "from math import sqrt"
   ]
  },
  {
   "cell_type": "code",
   "execution_count": 2,
   "metadata": {},
   "outputs": [],
   "source": [
    "df = pd.read_csv(\"../data/collects.csv\")"
   ]
  },
  {
   "cell_type": "code",
   "execution_count": 3,
   "metadata": {},
   "outputs": [],
   "source": [
    "# Train\n",
    "unique_sensors = []\n",
    "for s in df[\"sensorId\"].tolist():\n",
    "    if s not in unique_sensors:\n",
    "        unique_sensors.append(s)"
   ]
  },
  {
   "cell_type": "code",
   "execution_count": 4,
   "metadata": {},
   "outputs": [
    {
     "name": "stdout",
     "output_type": "stream",
     "text": [
      "['IAJ9206', 'LZY4270', 'MUR8453', 'MXK6435', 'MYD8706', 'MYS2071', 'MZU6388', 'NAH4736', 'NAI1549', 'NEW4797']\n"
     ]
    }
   ],
   "source": [
    "print(unique_sensors)"
   ]
  },
  {
   "cell_type": "code",
   "execution_count": 5,
   "metadata": {},
   "outputs": [],
   "source": [
    "sensors_means = dict()\n",
    "sensors_std = dict()\n",
    "for s in unique_sensors:\n",
    "    aux_df = df[df[\"sensorId\"] == s] # Returns a df with all columns for each sensor.\n",
    "    # print(aux_df)\n",
    "    cols_mean = dict()\n",
    "    cols_std = dict()\n",
    "    for col in [\"params.velRMS.x\", \"params.velRMS.y\", \"params.velRMS.z\", \"params.accelRMS.x\", \"params.accelRMS.y\", \"params.accelRMS.z\"]:\n",
    "        col_values = aux_df[col].tolist() # Returns a list with all the values of a column for each sensor.\n",
    "        # print(col_values)\n",
    "        col_sum = 0\n",
    "        counter = 0\n",
    "        for v in col_values:\n",
    "            if not pd.isna(v): # Exclude NaN values.\n",
    "                col_sum += v\n",
    "                counter += 1\n",
    "        cols_mean[col] = col_sum/counter # Returns the mean of column \"a\" of the sensor \"b\"\n",
    "        # print(cols_mean[col])\n",
    "\n",
    "        col_std = 0\n",
    "        counter = -1\n",
    "        for v in col_values:\n",
    "            if not pd.isna(v): # Exclude NaN values.\n",
    "                col_std += (v-cols_mean[col])**2\n",
    "                counter += 1\n",
    "        \n",
    "        cols_std[col] = sqrt(col_std/counter) # Returns the std dev of column \"a\" of the sensor \"b\"\n",
    "    # print(cols_mean)\n",
    "    sensors_means[s] = cols_mean\n",
    "    sensors_std[s] = cols_std\n",
    "\n",
    "# print(sensors_means)\n",
    "\n",
    "# Predict\n",
    "new_value = 9e-2\n",
    "\n",
    "\n",
    "in_alert = dict()\n",
    "for s in unique_sensors:\n",
    "    cols_in_alert = dict()\n",
    "    for col in [\"params.velRMS.x\", \"params.velRMS.y\", \"params.velRMS.z\", \"params.accelRMS.x\", \"params.accelRMS.y\", \"params.accelRMS.z\"]:\n",
    "        if new_value >= sensors_means[s][col] +  2*sensors_std[s][col]:\n",
    "            cols_in_alert[col] = True\n",
    "        elif new_value < sensors_means[s][col] + 2*sensors_std[s][col]:\n",
    "            cols_in_alert[col] = False\n",
    "\n",
    "    in_alert[s] = cols_in_alert\n"
   ]
  },
  {
   "cell_type": "code",
   "execution_count": 6,
   "metadata": {},
   "outputs": [
    {
     "name": "stdout",
     "output_type": "stream",
     "text": [
      "         params.velRMS.x  params.velRMS.y  params.velRMS.z  params.accelRMS.x  \\\n",
      "IAJ9206             True             True             True               True   \n",
      "LZY4270             True             True             True               True   \n",
      "MUR8453             True             True             True               True   \n",
      "MXK6435             True             True             True               True   \n",
      "MYD8706             True             True             True              False   \n",
      "MYS2071             True             True             True               True   \n",
      "MZU6388             True             True             True               True   \n",
      "NAH4736             True             True             True              False   \n",
      "NAI1549             True             True             True               True   \n",
      "NEW4797             True             True             True              False   \n",
      "\n",
      "         params.accelRMS.y  params.accelRMS.z  \n",
      "IAJ9206              False               True  \n",
      "LZY4270               True               True  \n",
      "MUR8453               True               True  \n",
      "MXK6435               True               True  \n",
      "MYD8706              False              False  \n",
      "MYS2071               True              False  \n",
      "MZU6388               True              False  \n",
      "NAH4736              False              False  \n",
      "NAI1549               True               True  \n",
      "NEW4797              False              False  \n"
     ]
    }
   ],
   "source": [
    "df = pd.DataFrame.from_dict(in_alert, orient='index')\n",
    "print(df)"
   ]
  }
 ],
 "metadata": {
  "kernelspec": {
   "display_name": "cpp",
   "language": "python",
   "name": "python3"
  },
  "language_info": {
   "codemirror_mode": {
    "name": "ipython",
    "version": 3
   },
   "file_extension": ".py",
   "mimetype": "text/x-python",
   "name": "python",
   "nbconvert_exporter": "python",
   "pygments_lexer": "ipython3",
   "version": "3.12.0"
  }
 },
 "nbformat": 4,
 "nbformat_minor": 2
}
