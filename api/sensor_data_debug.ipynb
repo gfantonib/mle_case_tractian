{
 "cells": [
  {
   "cell_type": "code",
   "execution_count": 8,
   "metadata": {},
   "outputs": [],
   "source": [
    "import pandas as pd\n",
    "from flask import jsonify\n",
    "import requests"
   ]
  },
  {
   "cell_type": "code",
   "execution_count": 9,
   "metadata": {},
   "outputs": [
    {
     "data": {
      "text/html": [
       "<div>\n",
       "<style scoped>\n",
       "    .dataframe tbody tr th:only-of-type {\n",
       "        vertical-align: middle;\n",
       "    }\n",
       "\n",
       "    .dataframe tbody tr th {\n",
       "        vertical-align: top;\n",
       "    }\n",
       "\n",
       "    .dataframe thead th {\n",
       "        text-align: right;\n",
       "    }\n",
       "</style>\n",
       "<table border=\"1\" class=\"dataframe\">\n",
       "  <thead>\n",
       "    <tr style=\"text-align: right;\">\n",
       "      <th></th>\n",
       "      <th>id</th>\n",
       "      <th>sensor_id</th>\n",
       "      <th>mean</th>\n",
       "      <th>std_dev</th>\n",
       "    </tr>\n",
       "  </thead>\n",
       "  <tbody>\n",
       "    <tr>\n",
       "      <th>0</th>\n",
       "      <td>1</td>\n",
       "      <td>MXK6435</td>\n",
       "      <td>7.55425</td>\n",
       "      <td>2.751276</td>\n",
       "    </tr>\n",
       "    <tr>\n",
       "      <th>1</th>\n",
       "      <td>2</td>\n",
       "      <td>MUR8453</td>\n",
       "      <td>7.30400</td>\n",
       "      <td>3.395968</td>\n",
       "    </tr>\n",
       "    <tr>\n",
       "      <th>2</th>\n",
       "      <td>3</td>\n",
       "      <td>NAI1549</td>\n",
       "      <td>9.49025</td>\n",
       "      <td>1.788314</td>\n",
       "    </tr>\n",
       "    <tr>\n",
       "      <th>3</th>\n",
       "      <td>4</td>\n",
       "      <td>MYS2071</td>\n",
       "      <td>13.35125</td>\n",
       "      <td>4.932395</td>\n",
       "    </tr>\n",
       "    <tr>\n",
       "      <th>4</th>\n",
       "      <td>5</td>\n",
       "      <td>MXK6435</td>\n",
       "      <td>12.59225</td>\n",
       "      <td>5.216543</td>\n",
       "    </tr>\n",
       "    <tr>\n",
       "      <th>5</th>\n",
       "      <td>6</td>\n",
       "      <td>MYS2071</td>\n",
       "      <td>15.27625</td>\n",
       "      <td>1.982554</td>\n",
       "    </tr>\n",
       "    <tr>\n",
       "      <th>6</th>\n",
       "      <td>7</td>\n",
       "      <td>MYS2071</td>\n",
       "      <td>13.76925</td>\n",
       "      <td>5.959116</td>\n",
       "    </tr>\n",
       "    <tr>\n",
       "      <th>7</th>\n",
       "      <td>8</td>\n",
       "      <td>MYS2071</td>\n",
       "      <td>5.00775</td>\n",
       "      <td>3.410743</td>\n",
       "    </tr>\n",
       "    <tr>\n",
       "      <th>8</th>\n",
       "      <td>9</td>\n",
       "      <td>NAH4736</td>\n",
       "      <td>12.60325</td>\n",
       "      <td>8.164644</td>\n",
       "    </tr>\n",
       "    <tr>\n",
       "      <th>9</th>\n",
       "      <td>10</td>\n",
       "      <td>NEW4797</td>\n",
       "      <td>13.48325</td>\n",
       "      <td>5.467515</td>\n",
       "    </tr>\n",
       "    <tr>\n",
       "      <th>10</th>\n",
       "      <td>11</td>\n",
       "      <td>MYS2071</td>\n",
       "      <td>15.96100</td>\n",
       "      <td>6.696783</td>\n",
       "    </tr>\n",
       "    <tr>\n",
       "      <th>11</th>\n",
       "      <td>12</td>\n",
       "      <td>MXK6435</td>\n",
       "      <td>14.63550</td>\n",
       "      <td>2.002754</td>\n",
       "    </tr>\n",
       "    <tr>\n",
       "      <th>12</th>\n",
       "      <td>13</td>\n",
       "      <td>NAI1549</td>\n",
       "      <td>9.47375</td>\n",
       "      <td>6.145402</td>\n",
       "    </tr>\n",
       "    <tr>\n",
       "      <th>13</th>\n",
       "      <td>14</td>\n",
       "      <td>MXK6435</td>\n",
       "      <td>11.36025</td>\n",
       "      <td>4.442434</td>\n",
       "    </tr>\n",
       "    <tr>\n",
       "      <th>14</th>\n",
       "      <td>15</td>\n",
       "      <td>MUR8453</td>\n",
       "      <td>13.63725</td>\n",
       "      <td>4.602512</td>\n",
       "    </tr>\n",
       "    <tr>\n",
       "      <th>15</th>\n",
       "      <td>16</td>\n",
       "      <td>MZU6388</td>\n",
       "      <td>7.42775</td>\n",
       "      <td>3.219855</td>\n",
       "    </tr>\n",
       "    <tr>\n",
       "      <th>16</th>\n",
       "      <td>17</td>\n",
       "      <td>MXK6435</td>\n",
       "      <td>13.04600</td>\n",
       "      <td>5.592459</td>\n",
       "    </tr>\n",
       "    <tr>\n",
       "      <th>17</th>\n",
       "      <td>18</td>\n",
       "      <td>MYS2071</td>\n",
       "      <td>11.19800</td>\n",
       "      <td>6.402714</td>\n",
       "    </tr>\n",
       "    <tr>\n",
       "      <th>18</th>\n",
       "      <td>19</td>\n",
       "      <td>MXK6435</td>\n",
       "      <td>8.31325</td>\n",
       "      <td>3.409512</td>\n",
       "    </tr>\n",
       "    <tr>\n",
       "      <th>19</th>\n",
       "      <td>20</td>\n",
       "      <td>NEW4797</td>\n",
       "      <td>9.52600</td>\n",
       "      <td>4.167991</td>\n",
       "    </tr>\n",
       "  </tbody>\n",
       "</table>\n",
       "</div>"
      ],
      "text/plain": [
       "    id sensor_id      mean   std_dev\n",
       "0    1   MXK6435   7.55425  2.751276\n",
       "1    2   MUR8453   7.30400  3.395968\n",
       "2    3   NAI1549   9.49025  1.788314\n",
       "3    4   MYS2071  13.35125  4.932395\n",
       "4    5   MXK6435  12.59225  5.216543\n",
       "5    6   MYS2071  15.27625  1.982554\n",
       "6    7   MYS2071  13.76925  5.959116\n",
       "7    8   MYS2071   5.00775  3.410743\n",
       "8    9   NAH4736  12.60325  8.164644\n",
       "9   10   NEW4797  13.48325  5.467515\n",
       "10  11   MYS2071  15.96100  6.696783\n",
       "11  12   MXK6435  14.63550  2.002754\n",
       "12  13   NAI1549   9.47375  6.145402\n",
       "13  14   MXK6435  11.36025  4.442434\n",
       "14  15   MUR8453  13.63725  4.602512\n",
       "15  16   MZU6388   7.42775  3.219855\n",
       "16  17   MXK6435  13.04600  5.592459\n",
       "17  18   MYS2071  11.19800  6.402714\n",
       "18  19   MXK6435   8.31325  3.409512\n",
       "19  20   NEW4797   9.52600  4.167991"
      ]
     },
     "execution_count": 9,
     "metadata": {},
     "output_type": "execute_result"
    }
   ],
   "source": [
    "df = pd.read_parquet(\"sensor_data.parquet\")\n",
    "df"
   ]
  },
  {
   "cell_type": "code",
   "execution_count": 10,
   "metadata": {},
   "outputs": [
    {
     "data": {
      "text/html": [
       "<div>\n",
       "<style scoped>\n",
       "    .dataframe tbody tr th:only-of-type {\n",
       "        vertical-align: middle;\n",
       "    }\n",
       "\n",
       "    .dataframe tbody tr th {\n",
       "        vertical-align: top;\n",
       "    }\n",
       "\n",
       "    .dataframe thead th {\n",
       "        text-align: right;\n",
       "    }\n",
       "</style>\n",
       "<table border=\"1\" class=\"dataframe\">\n",
       "  <thead>\n",
       "    <tr style=\"text-align: right;\">\n",
       "      <th></th>\n",
       "      <th>id</th>\n",
       "      <th>sensor_id</th>\n",
       "      <th>mean</th>\n",
       "      <th>std_dev</th>\n",
       "    </tr>\n",
       "  </thead>\n",
       "  <tbody>\n",
       "    <tr>\n",
       "      <th>15</th>\n",
       "      <td>16</td>\n",
       "      <td>MZU6388</td>\n",
       "      <td>7.42775</td>\n",
       "      <td>3.219855</td>\n",
       "    </tr>\n",
       "  </tbody>\n",
       "</table>\n",
       "</div>"
      ],
      "text/plain": [
       "    id sensor_id     mean   std_dev\n",
       "15  16   MZU6388  7.42775  3.219855"
      ]
     },
     "execution_count": 10,
     "metadata": {},
     "output_type": "execute_result"
    }
   ],
   "source": [
    "filtered_df = df[df['sensor_id'] == \"MZU6388\"]\n",
    "filtered_df"
   ]
  },
  {
   "cell_type": "code",
   "execution_count": 11,
   "metadata": {},
   "outputs": [
    {
     "data": {
      "text/plain": [
       "list"
      ]
     },
     "execution_count": 11,
     "metadata": {},
     "output_type": "execute_result"
    }
   ],
   "source": [
    "result = filtered_df.to_dict(orient='records')\n",
    "type(result)"
   ]
  },
  {
   "cell_type": "code",
   "execution_count": 12,
   "metadata": {},
   "outputs": [],
   "source": [
    "weights_url = \"http://127.0.0.1:5000/{sensor_id}/weights\""
   ]
  },
  {
   "cell_type": "code",
   "execution_count": 14,
   "metadata": {},
   "outputs": [
    {
     "name": "stdout",
     "output_type": "stream",
     "text": [
      "[{'id': 16, 'mean': 7.427750000000001, 'sensor_id': 'MZU6388', 'std_dev': 3.219855392715642}]\n",
      "\n",
      "status 200\n"
     ]
    }
   ],
   "source": [
    "response = requests.get(weights_url.format(sensor_id = \"MZU6388\"))\n",
    "print(f\"{response.json()}\\n\")\n",
    "if response.status_code == 200:\n",
    "\tprint(\"status 200\")"
   ]
  },
  {
   "cell_type": "code",
   "execution_count": 1,
   "metadata": {},
   "outputs": [
    {
     "name": "stdout",
     "output_type": "stream",
     "text": [
      "{0: {'A': 1, 'B': 4}, 1: {'A': 2, 'B': 5}, 2: {'A': 3, 'B': 6}}\n"
     ]
    }
   ],
   "source": [
    "import pandas as pd\n",
    "\n",
    "# Example DataFrame\n",
    "df = pd.DataFrame({\n",
    "    'A': [1, 2, 3],\n",
    "    'B': [4, 5, 6]\n",
    "})\n",
    "\n",
    "# Convert to dictionary of dictionaries\n",
    "dict_of_dicts = df.to_dict(orient='index')\n",
    "print(dict_of_dicts)"
   ]
  },
  {
   "cell_type": "code",
   "execution_count": 2,
   "metadata": {},
   "outputs": [
    {
     "name": "stdout",
     "output_type": "stream",
     "text": [
      "{'A': [1, 2, 3], 'B': [4, 5, 6]}\n"
     ]
    }
   ],
   "source": [
    "# Convert to dictionary of lists\n",
    "dict_of_lists = df.to_dict(orient='list')\n",
    "print(dict_of_lists)"
   ]
  },
  {
   "cell_type": "code",
   "execution_count": 3,
   "metadata": {},
   "outputs": [
    {
     "name": "stdout",
     "output_type": "stream",
     "text": [
      "[{'A': 1, 'B': 4}, {'A': 2, 'B': 5}, {'A': 3, 'B': 6}]\n"
     ]
    }
   ],
   "source": [
    "# Convert to dictionary of lists\n",
    "dict_of_lists = df.to_dict(orient='records')\n",
    "print(dict_of_lists)"
   ]
  }
 ],
 "metadata": {
  "kernelspec": {
   "display_name": "cpp",
   "language": "python",
   "name": "python3"
  },
  "language_info": {
   "codemirror_mode": {
    "name": "ipython",
    "version": 3
   },
   "file_extension": ".py",
   "mimetype": "text/x-python",
   "name": "python",
   "nbconvert_exporter": "python",
   "pygments_lexer": "ipython3",
   "version": "3.12.0"
  }
 },
 "nbformat": 4,
 "nbformat_minor": 2
}
