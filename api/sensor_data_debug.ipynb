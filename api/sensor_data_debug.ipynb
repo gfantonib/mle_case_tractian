{
 "cells": [
  {
   "cell_type": "code",
   "execution_count": 5,
   "metadata": {},
   "outputs": [],
   "source": [
    "import pandas as pd\n",
    "from flask import jsonify\n",
    "import requests"
   ]
  },
  {
   "cell_type": "code",
   "execution_count": 6,
   "metadata": {},
   "outputs": [
    {
     "data": {
      "text/html": [
       "<div>\n",
       "<style scoped>\n",
       "    .dataframe tbody tr th:only-of-type {\n",
       "        vertical-align: middle;\n",
       "    }\n",
       "\n",
       "    .dataframe tbody tr th {\n",
       "        vertical-align: top;\n",
       "    }\n",
       "\n",
       "    .dataframe thead th {\n",
       "        text-align: right;\n",
       "    }\n",
       "</style>\n",
       "<table border=\"1\" class=\"dataframe\">\n",
       "  <thead>\n",
       "    <tr style=\"text-align: right;\">\n",
       "      <th></th>\n",
       "      <th>sensor_id</th>\n",
       "      <th>mean</th>\n",
       "      <th>std_dev</th>\n",
       "    </tr>\n",
       "  </thead>\n",
       "  <tbody>\n",
       "    <tr>\n",
       "      <th>0</th>\n",
       "      <td>MUR8453</td>\n",
       "      <td>13.608810</td>\n",
       "      <td>4.931544</td>\n",
       "    </tr>\n",
       "    <tr>\n",
       "      <th>1</th>\n",
       "      <td>MXK6435</td>\n",
       "      <td>15.706133</td>\n",
       "      <td>4.203709</td>\n",
       "    </tr>\n",
       "    <tr>\n",
       "      <th>2</th>\n",
       "      <td>MUR8453</td>\n",
       "      <td>9.077420</td>\n",
       "      <td>3.827486</td>\n",
       "    </tr>\n",
       "    <tr>\n",
       "      <th>3</th>\n",
       "      <td>NEW4797</td>\n",
       "      <td>13.151278</td>\n",
       "      <td>6.380997</td>\n",
       "    </tr>\n",
       "    <tr>\n",
       "      <th>4</th>\n",
       "      <td>MYD8706</td>\n",
       "      <td>19.886138</td>\n",
       "      <td>5.325154</td>\n",
       "    </tr>\n",
       "    <tr>\n",
       "      <th>...</th>\n",
       "      <td>...</td>\n",
       "      <td>...</td>\n",
       "      <td>...</td>\n",
       "    </tr>\n",
       "    <tr>\n",
       "      <th>75</th>\n",
       "      <td>IAJ9206</td>\n",
       "      <td>13.565750</td>\n",
       "      <td>3.027940</td>\n",
       "    </tr>\n",
       "    <tr>\n",
       "      <th>76</th>\n",
       "      <td>NAH4736</td>\n",
       "      <td>8.277500</td>\n",
       "      <td>4.521114</td>\n",
       "    </tr>\n",
       "    <tr>\n",
       "      <th>77</th>\n",
       "      <td>MYD8706</td>\n",
       "      <td>13.098250</td>\n",
       "      <td>5.014591</td>\n",
       "    </tr>\n",
       "    <tr>\n",
       "      <th>78</th>\n",
       "      <td>NAH4736</td>\n",
       "      <td>13.766500</td>\n",
       "      <td>2.521483</td>\n",
       "    </tr>\n",
       "    <tr>\n",
       "      <th>79</th>\n",
       "      <td>MUR8453</td>\n",
       "      <td>7.001500</td>\n",
       "      <td>3.587705</td>\n",
       "    </tr>\n",
       "  </tbody>\n",
       "</table>\n",
       "<p>80 rows × 3 columns</p>\n",
       "</div>"
      ],
      "text/plain": [
       "   sensor_id       mean   std_dev\n",
       "0    MUR8453  13.608810  4.931544\n",
       "1    MXK6435  15.706133  4.203709\n",
       "2    MUR8453   9.077420  3.827486\n",
       "3    NEW4797  13.151278  6.380997\n",
       "4    MYD8706  19.886138  5.325154\n",
       "..       ...        ...       ...\n",
       "75   IAJ9206  13.565750  3.027940\n",
       "76   NAH4736   8.277500  4.521114\n",
       "77   MYD8706  13.098250  5.014591\n",
       "78   NAH4736  13.766500  2.521483\n",
       "79   MUR8453   7.001500  3.587705\n",
       "\n",
       "[80 rows x 3 columns]"
      ]
     },
     "execution_count": 6,
     "metadata": {},
     "output_type": "execute_result"
    }
   ],
   "source": [
    "df = pd.read_parquet(\"sensor_data.parquet\")\n",
    "df"
   ]
  },
  {
   "cell_type": "code",
   "execution_count": 7,
   "metadata": {},
   "outputs": [],
   "source": [
    "sensor_id = \"NAH4736\""
   ]
  },
  {
   "cell_type": "code",
   "execution_count": 9,
   "metadata": {},
   "outputs": [
    {
     "name": "stdout",
     "output_type": "stream",
     "text": [
      "{23: False, 24: False, 41: False, 43: True, 72: False, 76: True, 78: True}\n"
     ]
    }
   ],
   "source": [
    "df_sensor = df[df['sensor_id'] == sensor_id]\n",
    "\n",
    "bool_series = 20 >= df_sensor[\"mean\"] + 2*df_sensor[\"std_dev\"]\n",
    "result_df = pd.DataFrame({\n",
    "    'result': bool_series\n",
    "})\n",
    "print(bool_series.to_dict())"
   ]
  }
 ],
 "metadata": {
  "kernelspec": {
   "display_name": "cpp",
   "language": "python",
   "name": "python3"
  },
  "language_info": {
   "codemirror_mode": {
    "name": "ipython",
    "version": 3
   },
   "file_extension": ".py",
   "mimetype": "text/x-python",
   "name": "python",
   "nbconvert_exporter": "python",
   "pygments_lexer": "ipython3",
   "version": "3.12.0"
  }
 },
 "nbformat": 4,
 "nbformat_minor": 2
}
