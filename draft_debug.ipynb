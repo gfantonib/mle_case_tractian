{
 "cells": [
  {
   "cell_type": "code",
   "execution_count": 57,
   "metadata": {},
   "outputs": [],
   "source": [
    "import pandas as pd\n",
    "from math import sqrt"
   ]
  },
  {
   "cell_type": "code",
   "execution_count": 58,
   "metadata": {},
   "outputs": [],
   "source": [
    "df = pd.read_csv(\"data/collects.csv\")"
   ]
  },
  {
   "cell_type": "code",
   "execution_count": 59,
   "metadata": {},
   "outputs": [],
   "source": [
    "# Train\n",
    "unique_sensors = []\n",
    "for s in df[\"sensorId\"].tolist():\n",
    "    if s not in unique_sensors:\n",
    "        unique_sensors.append(s)"
   ]
  },
  {
   "cell_type": "code",
   "execution_count": 60,
   "metadata": {},
   "outputs": [
    {
     "name": "stdout",
     "output_type": "stream",
     "text": [
      "['IAJ9206', 'LZY4270', 'MUR8453', 'MXK6435', 'MYD8706', 'MYS2071', 'MZU6388', 'NAH4736', 'NAI1549', 'NEW4797']\n"
     ]
    }
   ],
   "source": [
    "print(unique_sensors)"
   ]
  },
  {
   "cell_type": "code",
   "execution_count": 61,
   "metadata": {},
   "outputs": [
    {
     "name": "stdout",
     "output_type": "stream",
     "text": [
      "{'IAJ9206': {'params.velRMS.x': 0.0008137610799796232, 'params.velRMS.y': 0.0008581765155374435, 'params.velRMS.z': 0.0005325672440142643, 'params.accelRMS.x': 0.021404014518593986, 'params.accelRMS.y': 0.024749573866530872, 'params.accelRMS.z': 0.019857406011207338}, 'LZY4270': {'params.velRMS.x': 0.0003881819699499153, 'params.velRMS.y': 0.00026586577629382306, 'params.velRMS.z': 0.00028443739565943286, 'params.accelRMS.x': 0.026468912186978357, 'params.accelRMS.y': 0.026446700166944958, 'params.accelRMS.z': 0.018813547579298838}, 'MUR8453': {'params.velRMS.x': 0.0003187469166255556, 'params.velRMS.y': 0.00021784558460779478, 'params.velRMS.z': 0.0005878973852984724, 'params.accelRMS.x': 0.02321890922545632, 'params.accelRMS.y': 0.017592542673902315, 'params.accelRMS.z': 0.04102365071534288}, 'MXK6435': {'params.velRMS.x': 0.00023596531791907402, 'params.velRMS.y': 0.00012816763005780443, 'params.velRMS.z': 0.0001619379926431947, 'params.accelRMS.x': 0.011539843930635826, 'params.accelRMS.y': 0.008216024960588535, 'params.accelRMS.z': 0.014248346032580128}, 'MYD8706': {'params.velRMS.x': 0.0015480547785547796, 'params.velRMS.y': 0.0012806310023310088, 'params.velRMS.z': 0.0008903561771561767, 'params.accelRMS.x': 0.10859201538461537, 'params.accelRMS.y': 0.08508920116550145, 'params.accelRMS.z': 0.09276950326340314}, 'MYS2071': {'params.velRMS.x': 0.0013088713204373454, 'params.velRMS.y': 0.0017600634987384358, 'params.velRMS.z': 0.0018315895710681212, 'params.accelRMS.x': 0.07176447750210267, 'params.accelRMS.y': 0.06042675798990748, 'params.accelRMS.z': 0.08454321089150534}, 'MZU6388': {'params.velRMS.x': 0.00027316176470588174, 'params.velRMS.y': 0.0003004924677187956, 'params.velRMS.z': 0.0003428192252510768, 'params.accelRMS.x': 0.018992219512195128, 'params.accelRMS.y': 0.019093608321377332, 'params.accelRMS.z': 0.03251490064562409}, 'NAH4736': {'params.velRMS.x': 0.0017791493863732522, 'params.velRMS.y': 0.0068957668218366614, 'params.velRMS.z': 0.002546765552264073, 'params.accelRMS.x': 0.08337249344054172, 'params.accelRMS.y': 0.12191891620821001, 'params.accelRMS.z': 0.16544863267033455}, 'NAI1549': {'params.velRMS.x': 0.0005434407571862622, 'params.velRMS.y': 0.0013751233933161863, 'params.velRMS.z': 0.0003233285814442638, 'params.accelRMS.x': 0.013597539845758322, 'params.accelRMS.y': 0.027795554568824488, 'params.accelRMS.z': 0.01392621476980601}, 'NEW4797': {'params.velRMS.x': 0.0006062180009045685, 'params.velRMS.y': 0.0012587317955676165, 'params.velRMS.z': 0.0008119710538218007, 'params.accelRMS.x': 0.03558777747625504, 'params.accelRMS.y': 0.07662789959294432, 'params.accelRMS.z': 0.04532401040253277}}\n"
     ]
    }
   ],
   "source": [
    "sensors_means = dict()\n",
    "sensors_std = dict()\n",
    "for s in unique_sensors:\n",
    "    aux_df = df[df[\"sensorId\"] == s] # Returns a df with all columns for each sensor.\n",
    "    # print(aux_df)\n",
    "    cols_mean = dict()\n",
    "    cols_std = dict()\n",
    "    for col in [\"params.velRMS.x\", \"params.velRMS.y\", \"params.velRMS.z\", \"params.accelRMS.x\", \"params.accelRMS.y\", \"params.accelRMS.z\"]:\n",
    "        col_values = aux_df[col].tolist() # Returns a list with all the values of a column for each sensor.\n",
    "        # print(col_values)\n",
    "        col_sum = 0\n",
    "        counter = 0\n",
    "        for v in col_values:\n",
    "            if not pd.isna(v): # Exclude NaN values.\n",
    "                col_sum += v\n",
    "                counter += 1\n",
    "        cols_mean[col] = col_sum/counter # Returns the mean of column \"a\" of the sensor \"b\"\n",
    "        # print(cols_mean[col])\n",
    "\n",
    "        col_std = 0\n",
    "        counter = -1\n",
    "        for v in col_values:\n",
    "            if not pd.isna(v): # Exclude NaN values.\n",
    "                col_std += (v-cols_mean[col])**2\n",
    "                counter += 1\n",
    "        \n",
    "        cols_std[col] = sqrt(col_std/counter) # Returns the std dev of column \"a\" of the sensor \"b\"\n",
    "    # print(cols_mean)\n",
    "    sensors_means[s] = cols_mean\n",
    "    sensors_std[s] = cols_std\n",
    "\n",
    "# print(sensors_means)\n",
    "\n",
    "# Predict\n",
    "new_value = 9e-2\n",
    "\n",
    "\n",
    "in_alert = dict()\n",
    "for s in unique_sensors:\n",
    "    cols_in_alert = dict()\n",
    "    for col in [\"params.velRMS.x\", \"params.velRMS.y\", \"params.velRMS.z\", \"params.accelRMS.x\", \"params.accelRMS.y\", \"params.accelRMS.z\"]:\n",
    "        if new_value >= sensors_means[s][col] +  2*sensors_std[s][col]:\n",
    "            cols_in_alert[col] = True\n",
    "        elif new_value < sensors_means[s][col] + 2*sensors_std[s][col]:\n",
    "            cols_in_alert[col] = False\n",
    "\n",
    "    in_alert[s] = cols_in_alert\n"
   ]
  },
  {
   "cell_type": "code",
   "execution_count": 62,
   "metadata": {},
   "outputs": [
    {
     "data": {
      "text/plain": [
       "{'IAJ9206': {'params.velRMS.x': True,\n",
       "  'params.velRMS.y': True,\n",
       "  'params.velRMS.z': True,\n",
       "  'params.accelRMS.x': True,\n",
       "  'params.accelRMS.y': False,\n",
       "  'params.accelRMS.z': True},\n",
       " 'LZY4270': {'params.velRMS.x': True,\n",
       "  'params.velRMS.y': True,\n",
       "  'params.velRMS.z': True,\n",
       "  'params.accelRMS.x': True,\n",
       "  'params.accelRMS.y': True,\n",
       "  'params.accelRMS.z': True},\n",
       " 'MUR8453': {'params.velRMS.x': True,\n",
       "  'params.velRMS.y': True,\n",
       "  'params.velRMS.z': True,\n",
       "  'params.accelRMS.x': True,\n",
       "  'params.accelRMS.y': True,\n",
       "  'params.accelRMS.z': True},\n",
       " 'MXK6435': {'params.velRMS.x': True,\n",
       "  'params.velRMS.y': True,\n",
       "  'params.velRMS.z': True,\n",
       "  'params.accelRMS.x': True,\n",
       "  'params.accelRMS.y': True,\n",
       "  'params.accelRMS.z': True},\n",
       " 'MYD8706': {'params.velRMS.x': True,\n",
       "  'params.velRMS.y': True,\n",
       "  'params.velRMS.z': True,\n",
       "  'params.accelRMS.x': False,\n",
       "  'params.accelRMS.y': False,\n",
       "  'params.accelRMS.z': False},\n",
       " 'MYS2071': {'params.velRMS.x': True,\n",
       "  'params.velRMS.y': True,\n",
       "  'params.velRMS.z': True,\n",
       "  'params.accelRMS.x': True,\n",
       "  'params.accelRMS.y': True,\n",
       "  'params.accelRMS.z': False},\n",
       " 'MZU6388': {'params.velRMS.x': True,\n",
       "  'params.velRMS.y': True,\n",
       "  'params.velRMS.z': True,\n",
       "  'params.accelRMS.x': True,\n",
       "  'params.accelRMS.y': True,\n",
       "  'params.accelRMS.z': False},\n",
       " 'NAH4736': {'params.velRMS.x': True,\n",
       "  'params.velRMS.y': True,\n",
       "  'params.velRMS.z': True,\n",
       "  'params.accelRMS.x': False,\n",
       "  'params.accelRMS.y': False,\n",
       "  'params.accelRMS.z': False},\n",
       " 'NAI1549': {'params.velRMS.x': True,\n",
       "  'params.velRMS.y': True,\n",
       "  'params.velRMS.z': True,\n",
       "  'params.accelRMS.x': True,\n",
       "  'params.accelRMS.y': True,\n",
       "  'params.accelRMS.z': True},\n",
       " 'NEW4797': {'params.velRMS.x': True,\n",
       "  'params.velRMS.y': True,\n",
       "  'params.velRMS.z': True,\n",
       "  'params.accelRMS.x': False,\n",
       "  'params.accelRMS.y': False,\n",
       "  'params.accelRMS.z': False}}"
      ]
     },
     "execution_count": 62,
     "metadata": {},
     "output_type": "execute_result"
    }
   ],
   "source": [
    "in_alert"
   ]
  }
 ],
 "metadata": {
  "kernelspec": {
   "display_name": "cpp",
   "language": "python",
   "name": "python3"
  },
  "language_info": {
   "codemirror_mode": {
    "name": "ipython",
    "version": 3
   },
   "file_extension": ".py",
   "mimetype": "text/x-python",
   "name": "python",
   "nbconvert_exporter": "python",
   "pygments_lexer": "ipython3",
   "version": "3.12.0"
  }
 },
 "nbformat": 4,
 "nbformat_minor": 2
}
